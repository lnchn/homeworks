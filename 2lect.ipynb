{
  "nbformat": 4,
  "nbformat_minor": 0,
  "metadata": {
    "colab": {
      "name": "Copy of 26oct_19.ipynb",
      "provenance": [],
      "collapsed_sections": [],
      "include_colab_link": true
    },
    "kernelspec": {
      "name": "python3",
      "display_name": "Python 3"
    }
  },
  "cells": [
    {
      "cell_type": "markdown",
      "metadata": {
        "id": "view-in-github",
        "colab_type": "text"
      },
      "source": [
        "<a href=\"https://colab.research.google.com/github/lnchn/homeworks/blob/main/2lect.ipynb\" target=\"_parent\"><img src=\"https://colab.research.google.com/assets/colab-badge.svg\" alt=\"Open In Colab\"/></a>"
      ]
    },
    {
      "cell_type": "markdown",
      "metadata": {
        "id": "OtLfEjtTf88R"
      },
      "source": [
        "## операторы ввода и вывода"
      ]
    },
    {
      "cell_type": "markdown",
      "metadata": {
        "id": "RVp8eISaqTLp"
      },
      "source": [
        "1. Вывод на экран нескольких значений\n",
        "\n",
        "    Одним вызовом функции ```print ( ) ```можно печатать на экране несколько значений. Для этого задайте аргументы списком, перечислив их через запятую:"
      ]
    },
    {
      "cell_type": "code",
      "metadata": {
        "id": "E5uJKzVzeWxg",
        "outputId": "5463e600-6887-458b-c558-eccde193bdd1",
        "colab": {
          "base_uri": "https://localhost:8080/",
          "height": 34
        }
      },
      "source": [
        "print(\"Три\", \"аргумента\", \"успешно напечатаны\")"
      ],
      "execution_count": null,
      "outputs": [
        {
          "output_type": "stream",
          "text": [
            "Три аргумента успешно напечатаны\n"
          ],
          "name": "stdout"
        }
      ]
    },
    {
      "cell_type": "markdown",
      "metadata": {
        "id": "ux6R_K_8rR3Y"
      },
      "source": [
        "    Иногда аргументы функции (любой, и принта тоже) легче разбить на несколько строк кода, это делается для удобства чтения кода:"
      ]
    },
    {
      "cell_type": "code",
      "metadata": {
        "id": "rXTXwIoos4_g",
        "outputId": "f5252faa-45ef-492a-9598-1b10f55a72a0",
        "colab": {
          "base_uri": "https://localhost:8080/",
          "height": 34
        }
      },
      "source": [
        "print(\"Три\",\n",
        "      \"аргумента\",\n",
        "      \"успешно напечатаны\")"
      ],
      "execution_count": null,
      "outputs": [
        {
          "output_type": "stream",
          "text": [
            "Три аргумента успешно напечатаны\n"
          ],
          "name": "stdout"
        }
      ]
    },
    {
      "cell_type": "markdown",
      "metadata": {
        "id": "pRHZzBBQthM6"
      },
      "source": [
        "2. экранирование\n",
        "\n",
        "    esсаре-последователыюсти (экранированные последовательности) позволяют вставлять в строки специальные символы. Типичную\n",
        "    еsсаре-последовательность образуют два символа: обратный слеш (\\\\) и дополнительный символ.\n",
        "\n",
        "    Какими они бывают? \n",
        "    * \\\\\\ Обратный слеш. Выводит :\\\\\n",
        "    * \\\\' Апостроф, или одиночная кавычка. Выводит : '\n",
        "    * \\\\\" Кавычка. Выводит : \"\n",
        "    * \\n Новая строка . Перемещает курсор в начало следующей строки\n",
        "    * \\t Горизонтальный отступ - символ табуляции. Перемещает курсор вправо на один отступ\n",
        "\n",
        "Давайте попробуем напечатать строку с разными режимами экранирования\n",
        "\n",
        "NB! символы экранирования пишем внутри строки, в её кавычках\n",
        "\n",
        "\n",
        "\n",
        "\n",
        "\n",
        "\n"
      ]
    },
    {
      "cell_type": "code",
      "metadata": {
        "id": "2EBSJ26ywq3w",
        "outputId": "ddf28347-9871-431c-a3ac-526e91620abd",
        "colab": {
          "base_uri": "https://localhost:8080/",
          "height": 153
        }
      },
      "source": [
        "print(\"1:\", \"wow i can modify output now\") # классика\n",
        "print(\"2:\",\"\\\\wow i can modify output now\") # добавили бэкслеш\n",
        "print(\"3:\",\"he said \\'wow i can modify output now'\") # добавили кавычки (кавычки в кавычках, we need to go deeper!)\n",
        "print(\"4:\",\"wow i can \\\"modify\\\" output now\") # еще один вариант с кавычками\n",
        "print(\"5:\",\"wow \\ni can modify \\noutput now\") # перенос строки\n",
        "print(\"6:\",\"\\twow i can modify output now\") # табуляция\n"
      ],
      "execution_count": null,
      "outputs": [
        {
          "output_type": "stream",
          "text": [
            "1: wow i can modify output now\n",
            "2: \\wow i can modify output now\n",
            "3: he said 'wow i can modify output now'\n",
            "4: wow i can \"modify\" output now\n",
            "5: wow \n",
            "i can modify \n",
            "output now\n",
            "6: \twow i can modify output now\n"
          ],
          "name": "stdout"
        }
      ]
    },
    {
      "cell_type": "markdown",
      "metadata": {
        "id": "JXDTrGHNz8I2"
      },
      "source": [
        "3. альтернатива для ```print()```\n",
        "\n",
        "    иногда Вас может ожидать ситуация, когда Вы хотите посмотреть на данные, но печатать их полностью очень долго, а частями - неинформативно. На помощь приходит функция ```display()```. Помогает в случаях работы с большими данными"
      ]
    },
    {
      "cell_type": "code",
      "metadata": {
        "id": "y8QdaNWpz-So",
        "cellView": "both",
        "outputId": "02839b1e-49b1-4fec-e723-09396bd04bb1",
        "colab": {
          "base_uri": "https://localhost:8080/",
          "height": 34
        }
      },
      "source": [
        "#@title\n",
        "\n",
        "text = \"i am text\" #наши данные пока не очень большие, но все впереди\n",
        "display(text)"
      ],
      "execution_count": null,
      "outputs": [
        {
          "output_type": "display_data",
          "data": {
            "text/plain": [
              "'i am text'"
            ]
          },
          "metadata": {
            "tags": []
          }
        }
      ]
    },
    {
      "cell_type": "markdown",
      "metadata": {
        "id": "yaUt0Chfzk_Z"
      },
      "source": [
        "Хорошо, выводить текст (красиво) мы теперь умеем. А как вводить? Для этого есть функция ```input()```\n",
        "\n",
        "Функция принимает текст, который пользователь вводит с клавиатуры (в предлагаемый на экране строковый аргумент). После запуска ячейки *(или нажатия Run, если Вы в PyCharm, или нажатия Enter, если вы в интерактивном режиме питона из терминала)*\n",
        "функция ```input()``` возвратит на экран строку, которую мы ей подали."
      ]
    },
    {
      "cell_type": "code",
      "metadata": {
        "id": "GcM3830AzkF2",
        "outputId": "5600e02a-d7eb-4b83-c168-d47ccf12f8bc",
        "colab": {
          "base_uri": "https://localhost:8080/",
          "height": 34
        }
      },
      "source": [
        "name = input (\"напишите что угодно: \")\n"
      ],
      "execution_count": null,
      "outputs": [
        {
          "output_type": "stream",
          "text": [
            "напишите что угодно: hi this is a test\n"
          ],
          "name": "stdout"
        }
      ]
    },
    {
      "cell_type": "markdown",
      "metadata": {
        "id": "CX-aPirI4IGC"
      },
      "source": [
        "Давайте используем это, чтобы сделать персонализированное приветствие"
      ]
    },
    {
      "cell_type": "code",
      "metadata": {
        "id": "rixeKn1o4XSr",
        "outputId": "0ac25497-c4cd-47b3-9848-f219b44bc815",
        "colab": {
          "base_uri": "https://localhost:8080/",
          "height": 51
        }
      },
      "source": [
        "name = input(\"Здравствуйте! Как Вас зовут? \")\n",
        "print(\"Приятно познакомиться,\",name)"
      ],
      "execution_count": null,
      "outputs": [
        {
          "output_type": "stream",
          "text": [
            "Здравствуйте! Как Вас зовут? N\n",
            "Приятно познакомиться, N\n"
          ],
          "name": "stdout"
        }
      ]
    },
    {
      "cell_type": "markdown",
      "metadata": {
        "id": "X89hZucz-Zcp"
      },
      "source": [
        "<img alt=\"Картинки по запросу &quot;personalized ai meme&quot;&quot;\" class=\"n3VNCb\" src=\"https://pics.me.me/we-used-machine-learning-algorithms-to-greet-the-user-with-56245903.png\" data-noaft=\"1\" jsname=\"HiaYvf\" jsaction=\"load:XAeZkd;\" style=\"width: 317.385px; height: 471px; margin: 0px;\">"
      ]
    },
    {
      "cell_type": "markdown",
      "metadata": {
        "id": "kt2nYlkcgCnu"
      },
      "source": [
        "## списки\n",
        "\n",
        "изменяемые итерируемые коллекции объектов произвольных типов. Записываются в квадратных скобках [  ]"
      ]
    },
    {
      "cell_type": "code",
      "metadata": {
        "id": "1chs7uBGgF7z"
      },
      "source": [
        "my_list = [5,\"строки тоже можно\",7.09,\"lalala\"] # в списке могут быть элементы разных типов\n"
      ],
      "execution_count": null,
      "outputs": []
    },
    {
      "cell_type": "markdown",
      "metadata": {
        "id": "Ti8qZ1StKKR8"
      },
      "source": [
        "как мы можем создать лист?"
      ]
    },
    {
      "cell_type": "code",
      "metadata": {
        "id": "uw8pm_elKN-c",
        "outputId": "d20d8f56-af6e-4ce1-89a7-5bb1d994909e",
        "colab": {
          "base_uri": "https://localhost:8080/",
          "height": 34
        }
      },
      "source": [
        " # способ 1: обработать любой итерируемый объект встроенной функцией list()\n",
        " \n",
        " list('saturday') # возвращает лист с набором элементов, по которым итерировался в строке"
      ],
      "execution_count": null,
      "outputs": [
        {
          "output_type": "execute_result",
          "data": {
            "text/plain": [
              "['s', 'a', 't', 'u', 'r', 'd', 'a', 'y']"
            ]
          },
          "metadata": {
            "tags": []
          },
          "execution_count": 8
        }
      ]
    },
    {
      "cell_type": "code",
      "metadata": {
        "id": "aeH_8xKJWtxK"
      },
      "source": [
        "# способ 2: создать пустой лист и добавить в него элементы\n",
        "test = []  # Пустой список, задали литералом [].  Давайте в него что-нибудь добавим."
      ],
      "execution_count": null,
      "outputs": []
    },
    {
      "cell_type": "markdown",
      "metadata": {
        "id": "R2bMV2sXXa71"
      },
      "source": [
        "####методы списков"
      ]
    },
    {
      "cell_type": "code",
      "metadata": {
        "id": "Ru-E3cY0Xpno",
        "outputId": "17ee961f-5eba-46c3-e6ff-28c86b690fe7",
        "colab": {
          "base_uri": "https://localhost:8080/",
          "height": 34
        }
      },
      "source": [
        "test.append(\"hi\")\t#Добавляет элемент в конец списка. Элемент можно изменять\n",
        "print(test)"
      ],
      "execution_count": null,
      "outputs": [
        {
          "output_type": "stream",
          "text": [
            "['hi']\n"
          ],
          "name": "stdout"
        }
      ]
    },
    {
      "cell_type": "code",
      "metadata": {
        "id": "eDkkKpPzbQmn",
        "outputId": "e2e0a0d1-f26b-4ad3-8097-95b863275361",
        "colab": {
          "base_uri": "https://localhost:8080/",
          "height": 34
        }
      },
      "source": [
        "test.extend([\"Jane\",\"Jack\"])\t#Расширяет список list, добавляя в конец все элементы списка L\n",
        "test"
      ],
      "execution_count": null,
      "outputs": [
        {
          "output_type": "execute_result",
          "data": {
            "text/plain": [
              "['hi', 'Jane', 'Jack']"
            ]
          },
          "metadata": {
            "tags": []
          },
          "execution_count": 11
        }
      ]
    },
    {
      "cell_type": "code",
      "metadata": {
        "id": "YwVzP0NYbTKp",
        "outputId": "76230a3b-3791-4806-da88-4a1ad5bc5c3d",
        "colab": {
          "base_uri": "https://localhost:8080/",
          "height": 34
        }
      },
      "source": [
        "#аргументы в скобках: i-ый элемент(место) и значение, которое хотим вставить на это место\n",
        "test.insert(0, 56) # на 0е место вставили число 56\n",
        "test"
      ],
      "execution_count": null,
      "outputs": [
        {
          "output_type": "execute_result",
          "data": {
            "text/plain": [
              "[56, 'hi', 'Jane', 'Jack']"
            ]
          },
          "metadata": {
            "tags": []
          },
          "execution_count": 12
        }
      ]
    },
    {
      "cell_type": "code",
      "metadata": {
        "id": "ORhHmP_LbVBu",
        "outputId": "59e74b70-fc9d-40cb-99b6-cd3345ea454e",
        "colab": {
          "base_uri": "https://localhost:8080/",
          "height": 34
        }
      },
      "source": [
        "test.remove(56)\t#Удаляет первый элемент в списке, имеющий значение, переданное в скобках.\n",
        "test\n",
        "\n",
        "# Выдает ValueError, если такого элемента не существует в списке\n",
        "# test.remove(90) # раскомментьте эту строку, чтобы посмотреть, как работает ошибка\n"
      ],
      "execution_count": null,
      "outputs": [
        {
          "output_type": "execute_result",
          "data": {
            "text/plain": [
              "['hi', 'Jane', 'Jack']"
            ]
          },
          "metadata": {
            "tags": []
          },
          "execution_count": 14
        }
      ]
    },
    {
      "cell_type": "code",
      "metadata": {
        "id": "4aSnm9AQbXfa",
        "outputId": "6a55fc7c-58b5-4071-90af-daaed237c407",
        "colab": {
          "base_uri": "https://localhost:8080/",
          "height": 51
        }
      },
      "source": [
        "print(test)\n",
        "test.index('Jane') #Возвращает положение элемента со значением, заданным в скобках. \n",
        "#Если таких элементов больше одного, возвращает первый подошедший\t\n"
      ],
      "execution_count": null,
      "outputs": [
        {
          "output_type": "stream",
          "text": [
            "['hi', 'Jane', 'Jack']\n"
          ],
          "name": "stdout"
        },
        {
          "output_type": "execute_result",
          "data": {
            "text/plain": [
              "1"
            ]
          },
          "metadata": {
            "tags": []
          },
          "execution_count": 15
        }
      ]
    },
    {
      "cell_type": "code",
      "metadata": {
        "id": "HFUVPNe7bZZi",
        "outputId": "48c44eed-d797-45b9-b391-e0ea318ec4fa",
        "colab": {
          "base_uri": "https://localhost:8080/",
          "height": 34
        }
      },
      "source": [
        "test.count(\"Jane\")\t# Возвращает количество элементов со значением, заданным в скобках"
      ],
      "execution_count": null,
      "outputs": [
        {
          "output_type": "execute_result",
          "data": {
            "text/plain": [
              "1"
            ]
          },
          "metadata": {
            "tags": []
          },
          "execution_count": 16
        }
      ]
    },
    {
      "cell_type": "code",
      "metadata": {
        "id": "iHq2SgvAbah0",
        "outputId": "32a4bcce-a78d-4ba3-b985-440874c50d48",
        "colab": {
          "base_uri": "https://localhost:8080/",
          "height": 34
        }
      },
      "source": [
        "# test.sort()\t#Сортирует список (не работает для элементов разных типов в одном листе)\n",
        "\n",
        "test2 = [1.7,9,0,347,88,2]\n",
        "test2.sort()\n",
        "test2"
      ],
      "execution_count": null,
      "outputs": [
        {
          "output_type": "execute_result",
          "data": {
            "text/plain": [
              "[0, 1.7, 2, 9, 88, 347]"
            ]
          },
          "metadata": {
            "tags": []
          },
          "execution_count": 17
        }
      ]
    },
    {
      "cell_type": "code",
      "metadata": {
        "id": "b9rEJN3hbcEe",
        "outputId": "b31d4fa2-8ad3-4a11-bdab-9e0ff5effebf",
        "colab": {
          "base_uri": "https://localhost:8080/",
          "height": 51
        }
      },
      "source": [
        "print(test)\n",
        "test.reverse()\t#Разворачивает список\n",
        "test"
      ],
      "execution_count": null,
      "outputs": [
        {
          "output_type": "stream",
          "text": [
            "['Jack', 'Jane', 'hi']\n"
          ],
          "name": "stdout"
        },
        {
          "output_type": "execute_result",
          "data": {
            "text/plain": [
              "['hi', 'Jane', 'Jack']"
            ]
          },
          "metadata": {
            "tags": []
          },
          "execution_count": 21
        }
      ]
    },
    {
      "cell_type": "code",
      "metadata": {
        "id": "K8sqmhJHbhoM",
        "outputId": "56542132-0377-4160-9bcd-1670f96a0152",
        "colab": {
          "base_uri": "https://localhost:8080/",
          "height": 34
        }
      },
      "source": [
        "test.clear()\t#Очищает список\n",
        "test"
      ],
      "execution_count": null,
      "outputs": [
        {
          "output_type": "execute_result",
          "data": {
            "text/plain": [
              "[]"
            ]
          },
          "metadata": {
            "tags": []
          },
          "execution_count": 22
        }
      ]
    },
    {
      "cell_type": "markdown",
      "metadata": {
        "id": "pase1Hbc-omO"
      },
      "source": [
        "модуль  random"
      ]
    },
    {
      "cell_type": "code",
      "metadata": {
        "id": "Bd7PtY2O-n8w",
        "outputId": "f85ab322-554c-4e48-e3ac-194c26a1633f",
        "colab": {
          "base_uri": "https://localhost:8080/",
          "height": 34
        }
      },
      "source": [
        "import random # импортировали модуль в тетрадку/проект в Pycharm\n",
        "seq = [\"Jane\",\"Mary\",\"Alice\",\"Leo\",\"Nick\",\"Genevieve\",\"Sam\",\"yes, you\",\"and bye\"]\n",
        "chosen_name = random.choice(seq) \n",
        "# random.choice(x) выбирает в произвольном порядке один из элементов в последовательности, заданной в скобках, как аргумент метода\n",
        "# сохраним результат в переменную chosen_name (хорошо, когда названия переменных информативны)\n",
        "\n",
        "print(\"hello,\",chosen_name) \n",
        "# выводим на печать: фиксированную строку \"hello,\" и переменную, в которой результат выбора элемента из списка\n",
        "\n",
        "#запустите эту ячейку несколько раз, имена будут меняться"
      ],
      "execution_count": null,
      "outputs": [
        {
          "output_type": "stream",
          "text": [
            "hello, Genevieve\n"
          ],
          "name": "stdout"
        }
      ]
    },
    {
      "cell_type": "markdown",
      "metadata": {
        "id": "anf7YO01gIbP"
      },
      "source": [
        "## if (оператор ветвления) \n",
        "общая схема такая: сначала ```if``` с условным выражением, далее одна или более необязательных частей ```elif```, и в конце необязательная часть ```else```.\n",
        "\n",
        "\n",
        "    if test1:            # если условие1\n",
        "        state1           # выполни действие1\n",
        "    elif test2:          # если условие2\n",
        "        state2           # выполни действие2\n",
        "    else:                # в остальных случаях\n",
        "        state3           # выполни действие3"
      ]
    },
    {
      "cell_type": "code",
      "metadata": {
        "id": "qVgtREF7gKgT",
        "outputId": "57e50a1b-0eeb-4f7f-85a2-a66d932fd016",
        "colab": {
          "base_uri": "https://localhost:8080/",
          "height": 51
        }
      },
      "source": [
        "# пример:\n",
        "inp = input(\"введите число, а я угадаю, четное оно или нет:\") # сохраняем в переменную значение, введенное с клавиатуры\n",
        "# функция input() выдает строки, а нам нужно для дальнейщих операций нужен тип данных \"число\". Преобразуем строку в число!\n",
        "inp = float(inp) # просто перезапишем переменную, применив к ней функцию float(). Она превращает числовую строку в число, и умеет работать с целыми и дробными\n",
        "\n",
        "# Дальше создадим условие:\n",
        "if inp%2 == 0: # если остаток от деления числа, сохранненного в inp на 2 равен нулю (т.е. если число делится на 2 без остатка)\n",
        "    print('да, число', inp,\"четное\") # выводим ответ: строки и переменную, где лежит наше число\n",
        "else: # в ином случае\n",
        "    print('число',inp, 'нечетное') # также выводим ответ: строки и переменную, где лежит наше число\n",
        "\n",
        "# Вопрос для размышлений: что будет, если мы можем введем в поле input строку с буквами или знаками препинания?"
      ],
      "execution_count": null,
      "outputs": [
        {
          "output_type": "stream",
          "text": [
            "введите число, а я угадаю, четное оно или нет:22.092\n",
            "число 22.092 нечетное\n"
          ],
          "name": "stdout"
        }
      ]
    },
    {
      "cell_type": "code",
      "metadata": {
        "id": "EdaYTFunmZTn",
        "outputId": "07fb0838-6c99-47ec-c0e5-861abaf1ccaf",
        "colab": {
          "base_uri": "https://localhost:8080/",
          "height": 51
        }
      },
      "source": [
        "# определитель усталости\n",
        "\n",
        "a = float(input('по шкале от 0 до 10, напишите, насколько Вы устали: '))\n",
        "if a < 0.7:\n",
        "    print('Кажется, Вы совсем не устали')\n",
        "elif 0.7 <= a <= 6.8:\n",
        "    print('Вы средненько устали')\n",
        "# более тонкая настройка?\n",
        "else:\n",
        "    print('Скорее идите отдыхать!')\n"
      ],
      "execution_count": null,
      "outputs": [
        {
          "output_type": "stream",
          "text": [
            "по шкале от 0 до 10, напишите, насколько Вы устали: 7\n",
            "Скорее идите отдыхать!\n"
          ],
          "name": "stdout"
        }
      ]
    },
    {
      "cell_type": "code",
      "metadata": {
        "id": "SUHa_7YVtGSq",
        "outputId": "a42ce55c-4732-4eeb-a4ad-191598645a5f",
        "colab": {
          "base_uri": "https://localhost:8080/",
          "height": 51
        }
      },
      "source": [
        "#короткий способ записать if\\else\n",
        "# действие1 если условие верно, иначе действие2\n",
        "x = input(\"какой кофе вы любите? \").lower().strip(\"!?,)(:;\\'\\\".\") # методами для строк нормализуем текст, убрав регистр и пунктуацию\n",
        "\n",
        "print(\"я тоже!\") if x in [\"американо\",\"латте\",\"колдбрю\"] else print(\"отличный выбор\")\n",
        "\n"
      ],
      "execution_count": null,
      "outputs": [
        {
          "output_type": "stream",
          "text": [
            "какой кофе вы любите? ЛаттЕ!)\n",
            "я тоже!\n"
          ],
          "name": "stdout"
        }
      ]
    },
    {
      "cell_type": "markdown",
      "metadata": {
        "id": "GwBwQmwpxS3f"
      },
      "source": [
        "### Логические операторы: (True|False)\n",
        "\n",
        "```x and y```\n",
        "True, если оба значения x и y = True\n",
        "\n",
        "```x or y```\n",
        "True, если хотя бы одно из значений x или y = True\n",
        "\n",
        "```not x```\n",
        "True, если x = False\n",
        "\n",
        "\n",
        "True = 1\n",
        "False = 0"
      ]
    },
    {
      "cell_type": "markdown",
      "metadata": {
        "id": "5poDiBHfgLLW"
      },
      "source": [
        "## цикл while\n",
        "\n",
        "будет исполняться, пока условие = True"
      ]
    },
    {
      "cell_type": "markdown",
      "metadata": {
        "id": "YjtDPTnHeE_I"
      },
      "source": [
        ""
      ]
    },
    {
      "cell_type": "code",
      "metadata": {
        "id": "87cypz05gUlD",
        "outputId": "192a41ff-2d53-4f23-a867-ca2e6d3845b8",
        "colab": {
          "base_uri": "https://localhost:8080/",
          "height": 102
        }
      },
      "source": [
        "i = 5 # вне цикла создали переменную, равную 5\n",
        "while i < 15: # начало цикла: до тех пор, пока i меньше 15\n",
        "    print(i) # тело цикла: печатаем i\n",
        "    i = i + 2 # тело цикла: пересохраняем значение i, прибавив к нему 2, повторяем сначала"
      ],
      "execution_count": null,
      "outputs": [
        {
          "output_type": "stream",
          "text": [
            "5\n",
            "7\n",
            "9\n",
            "11\n",
            "13\n"
          ],
          "name": "stdout"
        }
      ]
    },
    {
      "cell_type": "markdown",
      "metadata": {
        "id": "W7UMswxs1-9M"
      },
      "source": [
        "будьте осторожны с условием ```while True: ```, это бесконечный цикл"
      ]
    },
    {
      "cell_type": "code",
      "metadata": {
        "id": "oXS40-lQ2HMA"
      },
      "source": [
        "n = 2 # вне цикла создали переменную, равную 2\n",
        "while n !=1: # пока n не равно единице\n",
        "    print(n) # печатем n\n",
        "    n += 1 #прибавляем единицу, повторяем сначала\n",
        "\n",
        "# цикл будет бесконечным, т.к. мы начали с двойки и задали условие \"пока результат меньше единицы,увеличивай на 1\"\n",
        "\n",
        "#прервать выполнение можно, нажав на стоп"
      ],
      "execution_count": null,
      "outputs": []
    },
    {
      "cell_type": "markdown",
      "metadata": {
        "id": "F8B_SWjegVng"
      },
      "source": [
        "## цикл for\n",
        "\n",
        "проходится по любому итерируемому объекту (например строке или списку), выполняет заданное нами действие. Действие задается в **теле цикла**"
      ]
    },
    {
      "cell_type": "code",
      "metadata": {
        "id": "gQtQSDLpgXqb",
        "outputId": "2c0b4475-5123-4675-ba6c-540f4f13cfb4",
        "colab": {
          "base_uri": "https://localhost:8080/",
          "height": 221
        }
      },
      "source": [
        "# детектор пробелов в тексте\n",
        "\n",
        "string = 'hello there!'\n",
        "for s in string:\n",
        "    print([s],s.isspace()) # метод из прошлого занятия, позволяет проверить символ, возвращает True или False"
      ],
      "execution_count": null,
      "outputs": [
        {
          "output_type": "stream",
          "text": [
            "['h'] False\n",
            "['e'] False\n",
            "['l'] False\n",
            "['l'] False\n",
            "['o'] False\n",
            "[' '] True\n",
            "['t'] False\n",
            "['h'] False\n",
            "['e'] False\n",
            "['r'] False\n",
            "['e'] False\n",
            "['!'] False\n"
          ],
          "name": "stdout"
        }
      ]
    },
    {
      "cell_type": "code",
      "metadata": {
        "id": "sljONgJC69cL",
        "outputId": "cb7ff9b6-116a-4db3-ff0f-ca1682277fc9",
        "colab": {
          "base_uri": "https://localhost:8080/",
          "height": 85
        }
      },
      "source": [
        "# генератор фраз \n",
        "seq2 = ['boring', 'dangerous','sad','beautiful','silly','difficult'] #  создали список, сохранили в переменную\n",
        "\n",
        "for i in ['coffee','tea','wine','juice']: # для каждого элемента (i) в списке:\n",
        "    phrase = \"i never drink \"+ i +\" alone, because it's too\" \n",
        "    # сохраним в переменную phrase такую строку: \"i never drink \"+ элемент из списка +\" alone, because it's too\"\n",
        "    reason = random.choice(seq2) # сохраним в переменную reason рандомный выбор одного из элементов списка seq2\n",
        "    print(phrase,reason) "
      ],
      "execution_count": null,
      "outputs": [
        {
          "output_type": "stream",
          "text": [
            "i never drink coffee alone, because it's too beautiful\n",
            "i never drink tea alone, because it's too dangerous\n",
            "i never drink wine alone, because it's too boring\n",
            "i never drink juice alone, because it's too sad\n"
          ],
          "name": "stdout"
        }
      ]
    },
    {
      "cell_type": "markdown",
      "metadata": {
        "id": "EB34xQZ7cwAb"
      },
      "source": [
        "операторы break и continue\n",
        "\n",
        "\n",
        "<img class=\"fancybox-image\" src=\"http://labs-org.ru/wp-content/uploads/2016/05/1-6.png\">"
      ]
    },
    {
      "cell_type": "markdown",
      "metadata": {
        "id": "ssmN_-5pBGlU"
      },
      "source": [
        "оператор break - позволяет прервать цикл (работает для for и while)"
      ]
    },
    {
      "cell_type": "code",
      "metadata": {
        "id": "ziwXy_XcBFS3",
        "outputId": "508eb7e9-e204-4131-80e5-cab17f9c6f9e",
        "colab": {
          "base_uri": "https://localhost:8080/",
          "height": 34
        }
      },
      "source": [
        "seq2 = ['boring', 'dangerous','sad','beautiful','silly','difficult']\n",
        "\n",
        "for i in ['coffee','tea','wine','juice']:\n",
        "    i = \"i never drink \"+ i +\" alone, because it's too\"\n",
        "    print(i,random.choice(seq2))\n",
        "    break  # запустите ячейку сначала с этой строкой в виде комментария, а затем раскомментьте и запустите еще раз"
      ],
      "execution_count": null,
      "outputs": [
        {
          "output_type": "stream",
          "text": [
            "i never drink coffee alone, because it's too difficult\n"
          ],
          "name": "stdout"
        }
      ]
    },
    {
      "cell_type": "markdown",
      "metadata": {
        "id": "P30DWz1lBzFF"
      },
      "source": [
        "оператор continue - начинает следующий проход цикла, минуя оставшееся тело цикла (работает для for и while)"
      ]
    },
    {
      "cell_type": "code",
      "metadata": {
        "id": "__tAmgMdB0PA",
        "outputId": "9d20f689-cc67-46b6-cc92-ccfe2527e101",
        "colab": {
          "base_uri": "https://localhost:8080/",
          "height": 34
        }
      },
      "source": [
        "for i in 'hello world': # проходимся по всем элементам строки\n",
        "    if i == 'o': # если элемент == o, то возвращаемся к следующему, не выполняя остаток цикла для o\n",
        "        continue\n",
        "    print(i * 2, end='')"
      ],
      "execution_count": null,
      "outputs": [
        {
          "output_type": "stream",
          "text": [
            "hheellll  wwrrlldd"
          ],
          "name": "stdout"
        }
      ]
    },
    {
      "cell_type": "markdown",
      "metadata": {
        "id": "yo6HyYX6gI73"
      },
      "source": [
        "## бонус"
      ]
    },
    {
      "cell_type": "code",
      "metadata": {
        "id": "WGhh5EnSgx6P"
      },
      "source": [
        "#@title сюрприз для гуру списков и циклов :) (кликните на ячейку два раза) { output-height: 10, display-mode: \"form\" }\n",
        "#@еще способ\n",
        "# еще один способ задать список - это использовать генератор списков, он же list comprehension\n",
        " cool_list = [i * 3 for i in 'hello']\n",
        " print(cool_list)\n",
        "\n",
        "# более сложные случаи\n",
        "new_fff = [c * 3 for c in 'list' if c != 'i']\n",
        "\n",
        "\n",
        "new_ccc = [c + d for c in 'list' if c != 'i' for d in 'spam' if d != 'a']\n",
        "\n",
        "# в сложных случаях лучше пользоваться обычным циклом for для генерации списков, он более читабельный"
      ],
      "execution_count": null,
      "outputs": []
    },
    {
      "cell_type": "markdown",
      "metadata": {
        "id": "ZCJWKHGVgY05"
      },
      "source": [
        "## homework\n",
        "\n",
        "Ниже представлены два варианта домашнего задания: easy mode и hard mode. Вы можете выбрать один из понравившихся (они оцениваются одинаково, без учета сложности). Hard mode создан для тех, кому может быть скучно с легкими заданиями."
      ]
    },
    {
      "cell_type": "markdown",
      "metadata": {
        "id": "npH9oiwdu8qi"
      },
      "source": [
        "###**easy** mode\n",
        "\n",
        "\n"
      ]
    },
    {
      "cell_type": "markdown",
      "metadata": {
        "id": "YJzLcQ97Z7_o"
      },
      "source": [
        "Задание 1: (условия if-elif-else)\n",
        "\n",
        "В ячейке ниже - код \"определителя усталости\" (мы разбирали его на паре). Сейчас он работает, но его можно улучшить: \n",
        "1.  добавьте условие, чтобы если пользователь вводит число больше 10, мы говорили ему, что так нельзя\n",
        "\n",
        "2. добавьте еще одно или два условия, чтобы датчик категорий усталости был еще точнее\n",
        "\n",
        "*Подсказка: может помочь нарисовать себе схему условий на бумаге*"
      ]
    },
    {
      "cell_type": "code",
      "metadata": {
        "id": "i6qZ_C4YgfCz"
      },
      "source": [
        "# определитель усталости\n",
        "\n",
        "a = float(input('по шкале от 0 до 10, напишите, насколько Вы устали: '))\n",
        "if a < 0.7:\n",
        "    print('Кажется, Вы совсем не устали')\n",
        "elif 0.7 <= a <= 6.8:\n",
        "    print('Вы средненько устали')\n",
        "# Ваш код дальше:\n"
      ],
      "execution_count": null,
      "outputs": []
    },
    {
      "cell_type": "markdown",
      "metadata": {
        "id": "IDFL32t-cA5I"
      },
      "source": [
        "Задание 2: (цикл while)\n",
        "\n",
        "a) Напишите код, который будет считать от 100 до 0 с шагом в 10и выводом промежуточных результатов на экран (то есть, 100-90-80-70...10-0). Когда дойдет до финиша, на экран должно выводиться сообщение, что программа завершилась. (здесь вам поможет ```print()``` )\n",
        "\n",
        "*Подсказка: вне цикла создайте переменную, равную 100, а в цикле цикле задайте шаг. Не забудьте про вывод результата о завершении работы* "
      ]
    },
    {
      "cell_type": "code",
      "metadata": {
        "id": "4-xQGvXNEbr0"
      },
      "source": [
        "# Ваш код: \n",
        "\n"
      ],
      "execution_count": null,
      "outputs": []
    },
    {
      "cell_type": "markdown",
      "metadata": {
        "id": "40PLtt0WQNGh"
      },
      "source": [
        "Задача 3 (модуль random и операции со строками)\n",
        "\n",
        "программа \"миллион причин остаться дома\" выбирает причину, почему наш герой(или героиня) не идет на работу. В переменной excuses есть заданный список причин (Вы можете его расширить, по желанию: вручную или методом ```.append()``` ). Методом ```random.choice()``` нам нужно выбрать одну из них и вывести на печать вместе с фиксированной фразой.\n",
        "\n",
        "Наша программа должна выбрать причину и напечатать сообщение: \"Сегодня я не иду на работу, потому что\" и причину. "
      ]
    },
    {
      "cell_type": "code",
      "metadata": {
        "id": "aZzK4CieQNpN"
      },
      "source": [
        "import random\n",
        "excuses = [\"я устал\",\"я улетел к океану\",\"на улице холодно\",\"на улице жарко\", #мы можем переносить строки, пока в списке! \n",
        "           \"я в отпуске\",\"у меня день рождения\",\"сегодня выходной\",\"мне надоело\",\n",
        "           \"я работаю из дома\",\"могу\",\"плохо себя чувствую\",\"не хочу\", \"у меня лапки\",\"я в отпуске!\",\n",
        "           \"на улице ураган\"]\n",
        "# Ваш код:\n"
      ],
      "execution_count": null,
      "outputs": []
    },
    {
      "cell_type": "markdown",
      "metadata": {
        "id": "6qrjVJlLccbT"
      },
      "source": [
        "### **hard** mode\n",
        "\n",
        "\n",
        "\n",
        "(если предыдущий вариант кажется скучным/ простым, и вы уже знаете про циклы for и операторы break/continue)\n",
        "\n",
        "Задача 1 определитель делимости числа на 5\n",
        "\n",
        "Напишите код, который проверяет делимость числа на 5. Числа нужно выбрать из списка. Если число делится, алгоритм должен выйти из цикла и вывести на экран искомое число и строку \"делится на 5\". Если не делится, выводим на экран \"это не делится на 5, продолжим поиск\". Продолжаем пока не найдем такое, которое бы делилось. Проверяя числа на делимость, алгоритм также должен игнорировать число 45, не прервав на нем цикл."
      ]
    },
    {
      "cell_type": "code",
      "metadata": {
        "id": "Pk0L9hbxcg_j"
      },
      "source": [
        "numbers = [2,6,7,45,1,89,678,35]\n",
        "\n",
        "# Ваш код\n"
      ],
      "execution_count": null,
      "outputs": []
    },
    {
      "cell_type": "markdown",
      "metadata": {
        "id": "fHRyAz5ah2GG"
      },
      "source": [
        "Задача 2: робот, выбирающий пользователю коктейль:\n",
        "\n",
        "Представьте, что Вы разрабатываете (фрагмент) электронного помощника для ресторана. \n",
        "\n",
        "У Вас есть список коктейлей, где каждый коктейль представлен в виде списка ингридиентов. (у нас получается список списков). Программа рандомным образом должна выбрать один из коктейлей (т.е. один из списков в общем списке) и вывести на экран сообщение: \"Сегодня в вашем коктейле будет: \" и сам список ингридиентов\n",
        "\n",
        "Но есть одно условие: в некоторые из списков по ошибке попал \"лосось\" (может, его добавил незадачливый стажер-ассистент). Строку \"лосось\" нужно убрать *(здесь вам поможет один метод работы со списками)* ,но так как лосось есть не везде, нужно предварительно проверить его наличие в списке.\n",
        "\n",
        "Если можете, запишите проверку на наличие лосося и его последующее удаление из ингридиентов в виде list comprehension.\n",
        "\n",
        "Удачи!\n",
        "\n",
        "**Подсказка:** чтобы успешно свернуть цикл в list comprehension, попробуйте сначала написать цикл построчно, в классическом виде. Запустите его, проверьте, что все работает как надо. Если все хорошо, можно сворачивать. [Вот здесь](https://www.pythonforbeginners.com/basics/list-comprehensions-in-python) подсказка синтаксиса \n",
        "\n",
        "\n",
        "\n"
      ]
    },
    {
      "cell_type": "code",
      "metadata": {
        "id": "3Il9qv3OfoBD"
      },
      "source": [
        "import random\n",
        "\n",
        "cocktails = [[\"мартини\",\"грейпфрутовый сок\",\"жасмин\",\"тоник\",\"лосось\"],\n",
        "               [\"клубника\",\"какао\",\"мята\",\"марсала\"],\n",
        "               [\"водка\",\"томатный сок\",\"лимонный сок\",\"вустерширский соус\",\"черный перец\",\"сельдерей\",\"лосось\"],\n",
        "               [\"джин\",\"вермут\",\"ликер мараскино\",\"апельсины\",\"коктейльная вишня\",\"лосось\"],\n",
        "               [\"ром\",\"авокадо\",\"сахарный сироп\",\"сливки\",\"лимонный сок\",\"лед\"],\n",
        "               [\"красный вермут\",\"тоник\",\"апельсины\",\"лосось\"],\n",
        "               [\"только чай\"]\n",
        "        ]\n",
        "\n",
        "#Ваш код\n"
      ],
      "execution_count": null,
      "outputs": []
    },
    {
      "cell_type": "code",
      "metadata": {
        "id": "K6IjDz4giUMC"
      },
      "source": [
        ""
      ],
      "execution_count": null,
      "outputs": []
    }
  ]
}